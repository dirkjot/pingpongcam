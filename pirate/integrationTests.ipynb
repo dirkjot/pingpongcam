{
 "cells": [
  {
   "cell_type": "code",
   "execution_count": 3,
   "metadata": {},
   "outputs": [
    {
     "data": {
      "text/plain": [
       "'3.4.1'"
      ]
     },
     "execution_count": 3,
     "metadata": {},
     "output_type": "execute_result"
    }
   ],
   "source": [
    "import numpy as np\n",
    "import matplotlib.pyplot as plt\n",
    "import cv2\n",
    "import glob\n",
    "def imshow(img):  plt.imshow(cv2.cvtColor(img, cv2.COLOR_BGR2RGB))\n",
    "%matplotlib inline\n",
    "cv2.__version__\n"
   ]
  },
  {
   "cell_type": "code",
   "execution_count": 5,
   "metadata": {},
   "outputs": [],
   "source": [
    "from annotate import *"
   ]
  },
  {
   "cell_type": "code",
   "execution_count": 114,
   "metadata": {},
   "outputs": [],
   "source": [
    "class TestEnvironment(object):\n",
    "    \"capture the variables we use to communicate between steps\"\n",
    "    def __init__(self, imagename, fixit=False, **kwargs):\n",
    "        self.__dict__.update(kwargs)\n",
    "        self.imagename = imagename\n",
    "        self.fixit = fixit\n",
    "    def __str__(self):\n",
    "        return \"TestEnv< %r >\" % self.__dict__\n",
    "    "
   ]
  },
  {
   "cell_type": "code",
   "execution_count": 78,
   "metadata": {},
   "outputs": [],
   "source": [
    "def referenceImages():\n",
    "    for fn in glob.glob('../reference/frame*.png'):\n",
    "        if not \"-\" in fn:\n",
    "            yield fn\n"
   ]
  },
  {
   "cell_type": "code",
   "execution_count": 38,
   "metadata": {},
   "outputs": [],
   "source": [
    "def imageload(imagename, stepname):\n",
    "    image = cv2.imread(imagename)\n",
    "    assert image.shape[0]>100, \"height less than 100?\"\n",
    "    return image"
   ]
  },
  {
   "cell_type": "code",
   "execution_count": 40,
   "metadata": {},
   "outputs": [],
   "source": [
    "def comparisonload(imagename, stepname):\n",
    "    compname = imagename.replace(\".png\", \"-\" + stepname + \".png\")\n",
    "    comparison = cv2.imread(compname)\n",
    "    return comparison"
   ]
  },
  {
   "cell_type": "code",
   "execution_count": 21,
   "metadata": {},
   "outputs": [],
   "source": [
    "def compreplace(imagename, stepname, newImage):\n",
    "    compname = imagename.replace(\".png\", \"-\" + stepname + \".png\")\n",
    "    cv2.imwrite(compname, newImage)"
   ]
  },
  {
   "cell_type": "code",
   "execution_count": 170,
   "metadata": {},
   "outputs": [],
   "source": [
    "def imagecompare(imagename, stepname, fixit, subject):\n",
    "    comparison = comparisonload(imagename, stepname)\n",
    "    if subject is None:\n",
    "        print (\"Empty subject in comparison\")\n",
    "        return False\n",
    "    if comparison is None and not fixit:\n",
    "        print (\"Empty comparison\")\n",
    "        return False\n",
    "    if comparison is not None and not np.all(subject.shape == comparison.shape):\n",
    "        if len(subject.shape) == 2 and len(comparison.shape) == 3:\n",
    "            comparison = comparison[:,:,0]\n",
    "            print (\"Removed channel 2 and 3 from comparison image\")\n",
    "        else:\n",
    "            print (\"Dimensions not comparable in comparison\")\n",
    "            return False\n",
    "    if comparison is not None and np.all(cv2.compare(subject, comparison, cv2.CMP_EQ)):\n",
    "        print(\"Pass %s %s\" % (stepname, imagename))\n",
    "        return True\n",
    "    else:\n",
    "        if fixit:\n",
    "            compreplace(imagename, stepname, subject)\n",
    "            print(\"Replaced after fail %s %s\" % (stepname, imagename))\n",
    "            return True\n",
    "        else:\n",
    "            print(\"Failed %s %s\" % (stepname, imagename))\n",
    "            return False\n"
   ]
  },
  {
   "cell_type": "code",
   "execution_count": 176,
   "metadata": {},
   "outputs": [
    {
     "name": "stdout",
     "output_type": "stream",
     "text": [
      "Pass step1 ../reference/frame17978.png\n"
     ]
    }
   ],
   "source": [
    "def test_step1(testenv, fixit=False):\n",
    "    stepname = 'step1'\n",
    "    testenv.image = imageload(testenv.imagename, stepname)\n",
    "    # \n",
    "    testenv.mask, testenv.bluewhite = tightbluemask(testenv.image)\n",
    "    #\n",
    "    imagecompare(testenv.imagename, stepname, testenv.fixit or fixit, testenv.bluewhite.image)\n",
    "    \n",
    "testenv = TestEnvironment(\"../reference/frame17978.png\")\n",
    "test_step1(testenv)"
   ]
  },
  {
   "cell_type": "code",
   "execution_count": 177,
   "metadata": {},
   "outputs": [
    {
     "name": "stdout",
     "output_type": "stream",
     "text": [
      "Found 5 outer contours\n",
      "Pass step2 ../reference/frame17978.png\n"
     ]
    }
   ],
   "source": [
    "def test_step2(testenv, fixit=False):\n",
    "    stepname = \"step2\"\n",
    "    #\n",
    "    testenv.dst, testenv.cnts = extract_raw_contours(testenv.image, testenv.mask)\n",
    "    #\n",
    "    imagecompare(testenv.imagename, stepname, testenv.fixit or fixit, testenv.dst)\n",
    "    assert len(testenv.cnts) == 5\n",
    "\n",
    "test_step2(testenv)"
   ]
  },
  {
   "cell_type": "code",
   "execution_count": 172,
   "metadata": {},
   "outputs": [
    {
     "name": "stdout",
     "output_type": "stream",
     "text": [
      "Found 5 outer contours\n",
      "Pass step2 ../reference/frame17978.png\n"
     ]
    }
   ],
   "source": []
  },
  {
   "cell_type": "code",
   "execution_count": 186,
   "metadata": {},
   "outputs": [
    {
     "name": "stdout",
     "output_type": "stream",
     "text": [
      "Found shape with sides: 15\n",
      "Found shape with sides: 17\n",
      "Found shape with sides: 10\n",
      "Found shape with sides: 6\n",
      "Found shape with sides: 4\n",
      "-- Found: 445 x 409\n",
      "Removed channel 2 and 3 from comparison image\n",
      "Pass step3 ../reference/frame17978.png\n"
     ]
    }
   ],
   "source": [
    "def test_step3(testenv, fixit=False):\n",
    "    stepname = \"step3\"\n",
    "    #\n",
    "    testenv.bluewhite.contour, testenv.mask = find_outer_rect(testenv.cnts, testenv.image, testenv.mask)\n",
    "    #\n",
    "    imagecompare(testenv.imagename, stepname, testenv.fixit or fixit, testenv.mask)    \n",
    "\n",
    "test_step3(testenv)"
   ]
  },
  {
   "cell_type": "code",
   "execution_count": 187,
   "metadata": {},
   "outputs": [],
   "source": [
    "def test_step5(testenv):\n",
    "    stepname = \"step5\"\n",
    "    #\n",
    "    testenv.contours, testenv.hier = find_inner_rectangles(testenv.mask)\n",
    "    #\n",
    "    assert len(testenv.contours) == 4\n",
    "\n",
    "test_step5(testenv)\n",
    "  "
   ]
  },
  {
   "cell_type": "code",
   "execution_count": 188,
   "metadata": {},
   "outputs": [
    {
     "name": "stdout",
     "output_type": "stream",
     "text": [
      "Found shape with sides: 4\n",
      "Found shape with sides: 4\n",
      "Found shape with sides: 4\n",
      "Found shape with sides: 4\n",
      "Pass step6 ../reference/frame17978.png\n"
     ]
    }
   ],
   "source": [
    "def test_step6(testenv, fixit=False):\n",
    "    stepname = \"step6\"\n",
    "    #\n",
    "    testenv.boxes = get_inner_rect_contents(testenv.contours, testenv.image)\n",
    "    #\n",
    "    boxedimg = np.concatenate([b.image for b in testenv.boxes])\n",
    "    imagecompare(testenv.imagename, stepname, (testenv.fixit or fixit), boxedimg)\n",
    "    \n",
    "test_step6(testenv)"
   ]
  },
  {
   "cell_type": "code",
   "execution_count": 189,
   "metadata": {},
   "outputs": [
    {
     "name": "stdout",
     "output_type": "stream",
     "text": [
      "Pass step7 ../reference/frame17978.png\n"
     ]
    }
   ],
   "source": [
    "def test_step7(testenv, fixit=False):\n",
    "    stepname = \"step7\"\n",
    "    #\n",
    "    classify_boxes(testenv.boxes)\n",
    "    #\n",
    "    boxedimg = np.concatenate([b.contentdetection for b in testenv.boxes])\n",
    "    imagecompare(testenv.imagename, stepname, (testenv.fixit or fixit), boxedimg)\n",
    "    \n",
    "test_step7(testenv)"
   ]
  },
  {
   "cell_type": "code",
   "execution_count": 193,
   "metadata": {},
   "outputs": [
    {
     "name": "stdout",
     "output_type": "stream",
     "text": [
      "Pass step9 ../reference/frame17978.png\n"
     ]
    }
   ],
   "source": [
    "def test_step9(testenv, fixit=False):\n",
    "    stepname = \"step9\"\n",
    "    #\n",
    "    addTimeIndicators(testenv.boxes, None)\n",
    "    testenv.bluestraight = reconstruct(testenv.boxes, testenv.bluewhite)\n",
    "    #\n",
    "    imagecompare(testenv.imagename, stepname, (testenv.fixit or fixit), testenv.bluestraight)\n",
    "    \n",
    "test_step9(testenv)\n",
    "    "
   ]
  },
  {
   "cell_type": "code",
   "execution_count": 203,
   "metadata": {},
   "outputs": [
    {
     "name": "stdout",
     "output_type": "stream",
     "text": [
      "Pass step1 ../reference/frame17983.png\n",
      "Found 6 outer contours\n",
      "Pass step2 ../reference/frame17983.png\n",
      "Failure caught, moving on ../reference/frame17983.png\n",
      "Pass step1 ../reference/frame17981.png\n",
      "Found 5 outer contours\n",
      "Pass step2 ../reference/frame17981.png\n",
      "Found shape with sides: 13\n",
      "Found shape with sides: 14\n",
      "Found shape with sides: 8\n",
      "Found shape with sides: 5\n",
      "Found shape with sides: 4\n",
      "-- Found: 445 x 410\n",
      "Removed channel 2 and 3 from comparison image\n",
      "Pass step3 ../reference/frame17981.png\n",
      "Found shape with sides: 4\n",
      "Found shape with sides: 4\n",
      "Found shape with sides: 4\n",
      "Found shape with sides: 4\n",
      "Pass step6 ../reference/frame17981.png\n",
      "Pass step7 ../reference/frame17981.png\n",
      "Pass step9 ../reference/frame17981.png\n",
      "GREAT SUCCESS ../reference/frame17981.png\n",
      "Pass step1 ../reference/frame280.png\n",
      "Found 3 outer contours\n",
      "Pass step2 ../reference/frame280.png\n",
      "Failure caught, moving on ../reference/frame280.png\n",
      "Pass step1 ../reference/frame17978.png\n",
      "Found 5 outer contours\n",
      "Pass step2 ../reference/frame17978.png\n",
      "Found shape with sides: 15\n",
      "Found shape with sides: 17\n",
      "Found shape with sides: 10\n",
      "Found shape with sides: 6\n",
      "Found shape with sides: 4\n",
      "-- Found: 445 x 409\n",
      "Removed channel 2 and 3 from comparison image\n",
      "Pass step3 ../reference/frame17978.png\n",
      "Found shape with sides: 4\n",
      "Found shape with sides: 4\n",
      "Found shape with sides: 4\n",
      "Found shape with sides: 4\n",
      "Pass step6 ../reference/frame17978.png\n",
      "Pass step7 ../reference/frame17978.png\n",
      "Pass step9 ../reference/frame17978.png\n",
      "GREAT SUCCESS ../reference/frame17978.png\n",
      "Pass step1 ../reference/frame462.png\n",
      "Found 5 outer contours\n",
      "Pass step2 ../reference/frame462.png\n",
      "Found shape with sides: 16\n",
      "Found shape with sides: 13\n",
      "Found shape with sides: 8\n",
      "Found shape with sides: 6\n",
      "Found shape with sides: 4\n",
      "-- Found: 445 x 409\n",
      "Removed channel 2 and 3 from comparison image\n",
      "Pass step3 ../reference/frame462.png\n",
      "Found shape with sides: 4\n",
      "Found shape with sides: 4\n",
      "Found shape with sides: 4\n",
      "Found shape with sides: 4\n",
      "Pass step6 ../reference/frame462.png\n",
      "Pass step7 ../reference/frame462.png\n",
      "Pass step9 ../reference/frame462.png\n",
      "GREAT SUCCESS ../reference/frame462.png\n",
      "Pass step1 ../reference/frame18059.png\n",
      "Found 6 outer contours\n",
      "Pass step2 ../reference/frame18059.png\n",
      "Failure caught, moving on ../reference/frame18059.png\n",
      "Pass step1 ../reference/frame18073.png\n",
      "Found 5 outer contours\n",
      "Pass step2 ../reference/frame18073.png\n",
      "Found shape with sides: 13\n",
      "Found shape with sides: 13\n",
      "Found shape with sides: 10\n",
      "Found shape with sides: 4\n",
      "-- Rejected rectangle: 2 x 9\n",
      "Found shape with sides: 4\n",
      "-- Found: 445 x 409\n",
      "Removed channel 2 and 3 from comparison image\n",
      "Pass step3 ../reference/frame18073.png\n",
      "Found shape with sides: 4\n",
      "Found shape with sides: 4\n",
      "Found shape with sides: 4\n",
      "Found shape with sides: 4\n",
      "Pass step6 ../reference/frame18073.png\n",
      "Pass step7 ../reference/frame18073.png\n",
      "Pass step9 ../reference/frame18073.png\n",
      "GREAT SUCCESS ../reference/frame18073.png\n",
      "Pass step1 ../reference/frame12.png\n",
      "Found 5 outer contours\n",
      "Pass step2 ../reference/frame12.png\n",
      "Found shape with sides: 13\n",
      "Found shape with sides: 15\n",
      "Found shape with sides: 6\n",
      "Found shape with sides: 4\n",
      "-- Rejected rectangle: 1 x 7\n",
      "Found shape with sides: 4\n",
      "-- Found: 445 x 410\n",
      "Removed channel 2 and 3 from comparison image\n",
      "Pass step3 ../reference/frame12.png\n",
      "Found shape with sides: 4\n",
      "Found shape with sides: 4\n",
      "Found shape with sides: 4\n",
      "Found shape with sides: 4\n",
      "Pass step6 ../reference/frame12.png\n",
      "Pass step7 ../reference/frame12.png\n",
      "Pass step9 ../reference/frame12.png\n",
      "GREAT SUCCESS ../reference/frame12.png\n",
      "Pass step1 ../reference/frame272.png\n",
      "Found 3 outer contours\n",
      "Pass step2 ../reference/frame272.png\n",
      "Failure caught, moving on ../reference/frame272.png\n",
      "Pass step1 ../reference/frame9989.png\n",
      "Found 7 outer contours\n",
      "Pass step2 ../reference/frame9989.png\n",
      "Failure caught, moving on ../reference/frame9989.png\n",
      "Pass step1 ../reference/frame276.png\n",
      "Found 3 outer contours\n",
      "Pass step2 ../reference/frame276.png\n",
      "Failure caught, moving on ../reference/frame276.png\n",
      "Pass step1 ../reference/frame464.png\n",
      "Found 5 outer contours\n",
      "Pass step2 ../reference/frame464.png\n",
      "Found shape with sides: 15\n",
      "Found shape with sides: 15\n",
      "Found shape with sides: 8\n",
      "Found shape with sides: 8\n",
      "Found shape with sides: 4\n",
      "-- Found: 445 x 409\n",
      "Removed channel 2 and 3 from comparison image\n",
      "Pass step3 ../reference/frame464.png\n",
      "Found shape with sides: 4\n",
      "Found shape with sides: 4\n",
      "Found shape with sides: 4\n",
      "Found shape with sides: 4\n",
      "Pass step6 ../reference/frame464.png\n",
      "Pass step7 ../reference/frame464.png\n",
      "Pass step9 ../reference/frame464.png\n",
      "GREAT SUCCESS ../reference/frame464.png\n",
      "Pass step1 ../reference/frame9988.png\n",
      "Found 6 outer contours\n",
      "Pass step2 ../reference/frame9988.png\n",
      "Failure caught, moving on ../reference/frame9988.png\n",
      "Pass step1 ../reference/frame275.png\n",
      "Found 3 outer contours\n",
      "Pass step2 ../reference/frame275.png\n",
      "Failure caught, moving on ../reference/frame275.png\n",
      "Pass step1 ../reference/frame18049.png\n",
      "Found 6 outer contours\n",
      "Pass step2 ../reference/frame18049.png\n",
      "Failure caught, moving on ../reference/frame18049.png\n",
      "Pass step1 ../reference/frame18074.png\n",
      "Found 5 outer contours\n",
      "Pass step2 ../reference/frame18074.png\n",
      "Found shape with sides: 12\n",
      "Found shape with sides: 17\n",
      "Found shape with sides: 11\n",
      "Found shape with sides: 6\n",
      "Found shape with sides: 4\n",
      "-- Found: 445 x 409\n",
      "Removed channel 2 and 3 from comparison image\n",
      "Pass step3 ../reference/frame18074.png\n",
      "Found shape with sides: 4\n",
      "Found shape with sides: 4\n",
      "Found shape with sides: 4\n",
      "Found shape with sides: 4\n",
      "Pass step6 ../reference/frame18074.png\n",
      "Pass step7 ../reference/frame18074.png\n",
      "Pass step9 ../reference/frame18074.png\n",
      "GREAT SUCCESS ../reference/frame18074.png\n",
      "Pass step1 ../reference/frame18060.png\n",
      "Found 6 outer contours\n",
      "Pass step2 ../reference/frame18060.png\n",
      "Failure caught, moving on ../reference/frame18060.png\n",
      "Pass step1 ../reference/frame274.png\n",
      "Found 4 outer contours\n",
      "Pass step2 ../reference/frame274.png\n",
      "Failure caught, moving on ../reference/frame274.png\n",
      "Pass step1 ../reference/frame19319.png\n",
      "Found 6 outer contours\n",
      "Pass step2 ../reference/frame19319.png\n",
      "Failure caught, moving on ../reference/frame19319.png\n"
     ]
    }
   ],
   "source": [
    "def testAll(fixit=False):\n",
    "    for name in referenceImages():\n",
    "        try:\n",
    "            testenv = TestEnvironment(name, fixit)\n",
    "            test_step1(testenv)\n",
    "            test_step2(testenv)\n",
    "            test_step3(testenv)\n",
    "            test_step5(testenv)\n",
    "            test_step6(testenv)\n",
    "            test_step7(testenv)\n",
    "            test_step9(testenv)\n",
    "            print (\"GREAT SUCCESS\", name)\n",
    "        except AssertionError:\n",
    "            print (\"Failure caught, moving on\", name)\n",
    "testAll(True)"
   ]
  }
 ],
 "metadata": {
  "kernelspec": {
   "display_name": "Python 3",
   "language": "python",
   "name": "python3"
  },
  "language_info": {
   "codemirror_mode": {
    "name": "ipython",
    "version": 3
   },
   "file_extension": ".py",
   "mimetype": "text/x-python",
   "name": "python",
   "nbconvert_exporter": "python",
   "pygments_lexer": "ipython3",
   "version": "3.6.5"
  }
 },
 "nbformat": 4,
 "nbformat_minor": 2
}

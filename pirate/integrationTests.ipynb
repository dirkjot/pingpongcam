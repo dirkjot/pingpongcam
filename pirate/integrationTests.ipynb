{
 "cells": [
  {
   "cell_type": "code",
   "execution_count": 3,
   "metadata": {},
   "outputs": [
    {
     "data": {
      "text/plain": [
       "'3.4.1'"
      ]
     },
     "execution_count": 3,
     "metadata": {},
     "output_type": "execute_result"
    }
   ],
   "source": [
    "import numpy as np\n",
    "import matplotlib.pyplot as plt\n",
    "import cv2\n",
    "import glob\n",
    "def imshow(img):  plt.imshow(cv2.cvtColor(img, cv2.COLOR_BGR2RGB))\n",
    "%matplotlib inline\n",
    "cv2.__version__\n"
   ]
  },
  {
   "cell_type": "code",
   "execution_count": 5,
   "metadata": {},
   "outputs": [],
   "source": [
    "from annotate import *"
   ]
  },
  {
   "cell_type": "code",
   "execution_count": 78,
   "metadata": {},
   "outputs": [],
   "source": [
    "def referenceImages():\n",
    "    for fn in glob.glob('../reference/frame*.png'):\n",
    "        if not \"-\" in fn:\n",
    "            yield fn\n"
   ]
  },
  {
   "cell_type": "code",
   "execution_count": 38,
   "metadata": {},
   "outputs": [],
   "source": [
    "def imageload(imagename, stepname):\n",
    "    image = cv2.imread(imagename)\n",
    "    assert image.shape[0]>100, \"height less than 100?\"\n",
    "    return image"
   ]
  },
  {
   "cell_type": "code",
   "execution_count": 40,
   "metadata": {},
   "outputs": [],
   "source": [
    "def comparisonload(imagename, stepname):\n",
    "    compname = imagename.replace(\".png\", \"-\" + stepname + \".png\")\n",
    "    comparison = cv2.imread(compname)\n",
    "    return comparison"
   ]
  },
  {
   "cell_type": "code",
   "execution_count": 21,
   "metadata": {},
   "outputs": [],
   "source": [
    "def compreplace(imagename, stepname, newImage):\n",
    "    compname = imagename.replace(\".png\", \"-\" + stepname + \".png\")\n",
    "    cv2.imwrite(compname, newImage)"
   ]
  },
  {
   "cell_type": "code",
   "execution_count": 72,
   "metadata": {},
   "outputs": [],
   "source": [
    "def imagecompare(imagename, stepname, fixit, subject):\n",
    "    comparison = comparisonload(imagename, stepname)\n",
    "    applesToapples = (subject is not None \n",
    "                      and comparison is not None \n",
    "                      and np.all(subject.shape == comparison.shape) )\n",
    "    if applesToapples and np.all(cv2.compare(subject, comparison, cv2.CMP_EQ)):\n",
    "        print(\"Pass %s %s\" % (stepname, imagename))\n",
    "    else:\n",
    "        if fixit:\n",
    "            compreplace(imagename, stepname, subject)\n",
    "            print(\"Replaced after fail %s %s\" % (stepname, imagename))\n",
    "        else:\n",
    "            print(\"Failed %s %s\" % (stepname, imagename))\n"
   ]
  },
  {
   "cell_type": "code",
   "execution_count": 95,
   "metadata": {},
   "outputs": [],
   "source": [
    "def test_step1(imagename, fixit=False):\n",
    "    global mask, bluewhite, image, _imagename\n",
    "    _imagename = imagename\n",
    "    stepname = 'step1'\n",
    "    image = imageload(imagename, stepname)\n",
    "    # \n",
    "    mask = tightbluemask(image)\n",
    "    bluewhite = image.copy()\n",
    "    bluewhite[mask == 0, :] = (255, 255, 255)\n",
    "    bluewhite = Box(image=bluewhite)\n",
    "    #\n",
    "    imagecompare(imagename, stepname, fixit, bluewhite.image)\n",
    "            "
   ]
  },
  {
   "cell_type": "code",
   "execution_count": 104,
   "metadata": {},
   "outputs": [
    {
     "name": "stdout",
     "output_type": "stream",
     "text": [
      "Replaced after fail step1 ../reference/frame17978.png\n"
     ]
    }
   ],
   "source": [
    "\n",
    "test_step1(\"../reference/frame17978.png\", False)"
   ]
  },
  {
   "cell_type": "code",
   "execution_count": 92,
   "metadata": {},
   "outputs": [],
   "source": [
    "def test_step2(imagename, fixit=False):\n",
    "    global image, dst, cnts, mask\n",
    "    stepname = \"step2\"\n",
    "    assert _imagename == imagename\n",
    "    #\n",
    "    dst, cnts = extract_raw_contours(image, mask)\n",
    "    #\n",
    "    imagecompare(imagename, stepname, fixit, dst)\n",
    "    assert len(cnts) == 5"
   ]
  },
  {
   "cell_type": "code",
   "execution_count": 107,
   "metadata": {},
   "outputs": [
    {
     "name": "stdout",
     "output_type": "stream",
     "text": [
      "Found 5 outer contours\n",
      "Pass step2 ../reference/frame17978.png\n"
     ]
    }
   ],
   "source": [
    "test_step2(_imagename, False)"
   ]
  },
  {
   "cell_type": "code",
   "execution_count": 108,
   "metadata": {},
   "outputs": [
    {
     "data": {
      "text/plain": [
       "1"
      ]
     },
     "execution_count": 108,
     "metadata": {},
     "output_type": "execute_result"
    }
   ],
   "source": []
  },
  {
   "cell_type": "code",
   "execution_count": 71,
   "metadata": {},
   "outputs": [
    {
     "data": {
      "text/plain": [
       "True"
      ]
     },
     "execution_count": 71,
     "metadata": {},
     "output_type": "execute_result"
    }
   ],
   "source": []
  },
  {
   "cell_type": "code",
   "execution_count": 98,
   "metadata": {},
   "outputs": [],
   "source": [
    "def extract_raw_contours(image, mask):\n",
    "    dst = np.zeros(image.shape, np.uint8)\n",
    "    dst[:] = (240, 240, 240)\n",
    "    cnts = cv2.findContours(mask, cv2.RETR_EXTERNAL, cv2.CHAIN_APPROX_SIMPLE)[1]\n",
    "    print(\"Found %d outer contours\" % len(cnts))\n",
    "    cv2.drawContours(dst, cnts, -1, (0, 255, 0), 3)\n",
    "    return dst, cnts\n",
    "\n"
   ]
  }
 ],
 "metadata": {
  "kernelspec": {
   "display_name": "Python 3",
   "language": "python",
   "name": "python3"
  },
  "language_info": {
   "codemirror_mode": {
    "name": "ipython",
    "version": 3
   },
   "file_extension": ".py",
   "mimetype": "text/x-python",
   "name": "python",
   "nbconvert_exporter": "python",
   "pygments_lexer": "ipython3",
   "version": "3.6.5"
  }
 },
 "nbformat": 4,
 "nbformat_minor": 2
}

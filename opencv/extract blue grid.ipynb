{
 "cells": [
  {
   "cell_type": "code",
   "execution_count": null,
   "metadata": {},
   "outputs": [],
   "source": [
    "LIVENOTEBOOK = False\n",
    "import cv2\n",
    "cv2.__version__\n",
    "\n"
   ]
  },
  {
   "cell_type": "code",
   "execution_count": null,
   "metadata": {},
   "outputs": [],
   "source": [
    "import numpy as np\n",
    "import matplotlib.pyplot as plt\n",
    "def imshow(img):  plt.imshow(cv2.cvtColor(img, cv2.COLOR_BGR2RGB))\n",
    "    \n",
    "if LIVENOTEBOOK:\n",
    "    %matplotlib inline\n",
    "    img = cv2.imread(\"../reference/frame17978.png\")\n",
    "    # test plotting\n",
    "    imshow(img)"
   ]
  },
  {
   "cell_type": "code",
   "execution_count": null,
   "metadata": {
    "collapsed": true
   },
   "outputs": [],
   "source": [
    "def tightbluemask(image, clean=True):\n",
    "    \"\"\"Returns a mask (grayscale image) which is >0 in the area of the blue grid.\"\"\"\n",
    "    hsv = cv2.cvtColor(image, cv2.COLOR_BGR2HSV)\n",
    "    threshold  = np.array([[103,95,30],[120,240,125]])\n",
    "    mask = cv2.inRange(hsv, threshold[0,:], threshold[1,:])\n",
    "\n",
    "    if clean:\n",
    "        kernel = cv2.getStructuringElement(cv2.MORPH_ELLIPSE, (15, 15))\n",
    "        mask = cv2.morphologyEx(mask, cv2.MORPH_CLOSE, kernel)\n",
    "        kernel = cv2.getStructuringElement(cv2.MORPH_ELLIPSE, (3, 3))\n",
    "        mask = cv2.morphologyEx(mask, cv2.MORPH_OPEN, kernel)\n",
    "    \n",
    "    return mask\n",
    "\n"
   ]
  },
  {
   "cell_type": "code",
   "execution_count": null,
   "metadata": {},
   "outputs": [],
   "source": [
    "# step 1, extract the right kind of blue\n",
    "if LIVENOTEBOOK:\n",
    "    image = img\n",
    "    mask = tightbluemask(img)\n",
    "    bluewhite = img.copy()\n",
    "    bluewhite[mask==0,:] = (255,255,255)\n",
    "    imshow(bluewhite)"
   ]
  },
  {
   "cell_type": "code",
   "execution_count": null,
   "metadata": {},
   "outputs": [],
   "source": [
    "# step 2 :extract raw contours\n",
    "if LIVENOTEBOOK:\n",
    "    dst = np.zeros(image.shape, np.uint8)\n",
    "    dst[:]=(240,240,240)\n",
    "    cnts = cv2.findContours(mask, cv2.RETR_EXTERNAL, cv2.CHAIN_APPROX_SIMPLE)[1]\n",
    "    print(\"Found %d outer contours\" % len(cnts))\n",
    "    cv2.drawContours(dst, cnts, -1, (0,255,0), 3)\n",
    "    plt.imshow(dst)"
   ]
  },
  {
   "cell_type": "code",
   "execution_count": null,
   "metadata": {},
   "outputs": [],
   "source": [
    "# simplify contours, find one that is a rectangle\n",
    "def find_outer_rect(cnts, img=None):\n",
    "    \"\"\"Find the one large rectangle in a list of contours, returns an approximated contour \n",
    "    and optionally an image of the contour\n",
    "    \n",
    "    If an optional image is passed, this routine will return a filled 3-channel image of the found contour.\n",
    "    In channel 0, the area inside the outer rect is 0, 255 elsewhere.\"\"\"\n",
    "    \n",
    "    if not img is None:\n",
    "        dst = np.zeros(img.shape, np.uint8)\n",
    "        dst[:] = (255,240,240)\n",
    "    else:\n",
    "        dst = None\n",
    "    for c in cnts:\n",
    "        peri = 0.01 * cv2.arcLength(c, True)  # approximate such that new perimeter is 1% of old one\n",
    "        approx = cv2.approxPolyDP(c, peri, True)\n",
    "        print (\"Found shape with sides: %d\" % len(approx))\n",
    "        if len(approx) == 4:\n",
    "                approx = np.reshape(approx,[4,2]) # drop 2nd dimension \n",
    "                xsize = approx[:,0].max() - approx[:,0].min()\n",
    "                ysize = approx[:,1].max() - approx[:,1].min()\n",
    "                if xsize > 300 and ysize > 150:\n",
    "                    print (\"-- Found: %d x %d\" % (xsize, ysize))\n",
    "                    if not img is None:\n",
    "                        cv2.drawContours(dst, [approx], -1, (0,255,0), cv2.FILLED)\n",
    "                    break\n",
    "                else:\n",
    "                    print (\"-- Rejected rectangle: %d x %d\" % (xsize, ysize))\n",
    "    else:\n",
    "        raise ValueError(\"No outer rectangle found\")\n",
    "    return approx, dst\n",
    "\n",
    "# step 3: get outer rectangle\n",
    "if LIVENOTEBOOK:\n",
    "    (outerRectangle, filledMask) = find_outer_rect(cnts, img)\n",
    "    imshow(filledMask)"
   ]
  },
  {
   "cell_type": "code",
   "execution_count": null,
   "metadata": {},
   "outputs": [],
   "source": [
    "# step 4: remove area outside of outer rectangle from mask (ie set to 0)\n",
    "if LIVENOTEBOOK:\n",
    "    mask[filledMask[:,:,0]>0]=0\n",
    "    plt.imshow(mask)\n"
   ]
  },
  {
   "cell_type": "code",
   "execution_count": null,
   "metadata": {},
   "outputs": [],
   "source": [
    "def find_inner_rectangles(img):\n",
    "    # find inner rectangles\n",
    "    _, cnts, hier = cv2.findContours(img, cv2.RETR_TREE, cv2.CHAIN_APPROX_SIMPLE)\n",
    "    contours = []\n",
    "    for i in range(len(cnts)):\n",
    "        contour = cnts[i]\n",
    "        _,_,w,h = cv2.boundingRect(contour)\n",
    "        if w>100 and h>50:\n",
    "            contours.append(contour)\n",
    "        else:\n",
    "            hier[0, i, :] = -2 # mark for deletion\n",
    "\n",
    "    hier = np.delete(hier, np.where(hier[0,:,-1] == -2)[0], 1)\n",
    "\n",
    "    assert len(contours) == 5, \"there should be five contours: found %d\" % len(contours)\n",
    "    assert hier[0,0,-1] == -1, \"first contour should be the outer one, ie it has no parent\"\n",
    "    assert np.all(hier[0,1:5,-1] == 0), \"all other contours should have the first contour as their parent\"\n",
    "    hier = np.delete(hier, 0, 1) # remove parent from list of hier\n",
    "    contours = contours[1:] # remove parent from contours\n",
    "    contours.sort(key=lambda a: a[:,0,1].min()) # sort contours by minimum y value (top down)\n",
    "    return contours, hier\n",
    "\n",
    "# step 5: find inner rectangles\n",
    "if LIVENOTEBOOK:\n",
    "    contours, hier = find_inner_rectangles(mask)\n",
    "    assert len(contours) == 4, \"Expected four inner rectangles, found %d \" % len(contours)\n"
   ]
  },
  {
   "cell_type": "code",
   "execution_count": null,
   "metadata": {
    "collapsed": true
   },
   "outputs": [],
   "source": []
  },
  {
   "cell_type": "code",
   "execution_count": null,
   "metadata": {},
   "outputs": [],
   "source": [
    "def get_inner_rect_contents(contours, image):\n",
    "    \"\"\"for each inner rectangle in 'contours', extract a standard size rectange with \n",
    "    the (masked) contents of this rectangle from 'image'.  Returns a list of cropped images. \"\"\"\n",
    "\n",
    "    # determine size of largest (topmost) bounding box\n",
    "    _,_,bbw,bbh = cv2.boundingRect(contours[0])\n",
    "    boxes = []\n",
    "    kernel =  np.ones((5,5), np.uint8)\n",
    "    for contour in contours:\n",
    "        # compute mask from contour by filling\n",
    "        mask = np.zeros(image.shape[:2], np.uint8)\n",
    "        cv2.drawContours(mask, [contour], -1, 255, cv2.FILLED)\n",
    "        # make mask about 5px smaller on all sides\n",
    "        mask = cv2.erode(mask, kernel)\n",
    "        # create white box and copy image in where mask is true\n",
    "        box = np.zeros_like(image)\n",
    "        box.fill(255)\n",
    "        box[mask == 255] = image[mask == 255] \n",
    "        # crop to bounding box\n",
    "        bbx, bby, w, h = cv2.boundingRect(contour)\n",
    "        assert bbw >= w and bbh >= h, \"all boxes should be smaller than the top one\"\n",
    "        box = box[bby:(bby+bbh), bbx:(bbx+bbw), :]\n",
    "        boxes.append(box)\n",
    "    return boxes\n",
    "    \n",
    "# step 6: get contents of inner rectangles (boxes)\n",
    "if LIVENOTEBOOK:\n",
    "    boxes = get_inner_rect_contents(contours, img)\n",
    "    imshow(np.concatenate(boxes))"
   ]
  },
  {
   "cell_type": "code",
   "execution_count": null,
   "metadata": {},
   "outputs": [],
   "source": [
    "def get_contents(imagepath):\n",
    "    img = cv2.imread(imagepath)\n",
    "\n",
    "    # step 1, extract the right kind of blue\n",
    "    # image = img\n",
    "    mask = tightbluemask(img)\n",
    "    bluewhite = img.copy()\n",
    "    bluewhite[mask==0,:] = (255,255,255)\n",
    "    imshow(bluewhite)\n",
    "\n",
    "    # step 2 :extract raw contours\n",
    "    dst = np.zeros(img.shape, np.uint8)\n",
    "    dst[:]=(240,240,240)\n",
    "    cnts = cv2.findContours(mask, cv2.RETR_EXTERNAL, cv2.CHAIN_APPROX_SIMPLE)[1]\n",
    "    print(\"Found %d outer contours\" % len(cnts))\n",
    "    cv2.drawContours(dst, cnts, -1, (0,255,0), 3)\n",
    "    plt.imshow(dst)\n",
    "\n",
    "    # step 3: get outer rectangle\n",
    "    (outerRectangle, filledMask) = find_outer_rect(cnts, img)\n",
    "    imshow(filledMask)\n",
    "\n",
    "    # step 4: remove area outside of outer rectangle from mask (ie set to 0)\n",
    "    mask[filledMask[:,:,0]>0]=0\n",
    "    plt.imshow(mask)\n",
    "\n",
    "    # step 5: find inner rectangles\n",
    "    contours, hier = find_inner_rectangles(mask)\n",
    "    assert len(contours) == 4, \"Expected four inner rectangles, found %d \" % len(contours)\n",
    "\n",
    "    # step 6: get contents of inner rectangles (boxes)\n",
    "    boxes = get_inner_rect_contents(contours, img)\n",
    "    return boxes\n",
    "    \n",
    "%matplotlib inline\n",
    "boxes = get_contents(\"../reference/frame18049.png\")\n",
    "plt.imshow(np.concatenate(boxes))"
   ]
  }
 ],
 "metadata": {
  "kernelspec": {
   "display_name": "Python 3",
   "language": "python",
   "name": "python3"
  },
  "language_info": {
   "codemirror_mode": {
    "name": "ipython",
    "version": 3
   },
   "file_extension": ".py",
   "mimetype": "text/x-python",
   "name": "python",
   "nbconvert_exporter": "python",
   "pygments_lexer": "ipython3",
   "version": "3.6.2"
  }
 },
 "nbformat": 4,
 "nbformat_minor": 2
}

{
 "cells": [
  {
   "cell_type": "code",
   "execution_count": 1,
   "metadata": {},
   "outputs": [],
   "source": [
    "import cv2\n",
    "import urllib.request\n",
    "import matplotlib.pyplot as plt\n",
    "import numpy as np\n",
    "%matplotlib inline"
   ]
  },
  {
   "cell_type": "code",
   "execution_count": 2,
   "metadata": {},
   "outputs": [],
   "source": [
    "# from PyImageSearch\n",
    "def url_to_image(url):\n",
    "\t# download the image, convert it to a NumPy array, and then read\n",
    "\t# it into OpenCV format\n",
    "\tresp = urllib.request.urlopen(url)\n",
    "\timage = np.asarray(bytearray(resp.read()), dtype=\"uint8\")\n",
    "\timage = cv2.imdecode(image, cv2.IMREAD_COLOR)\n",
    " \n",
    "\t# return the image\n",
    "\treturn image"
   ]
  },
  {
   "cell_type": "code",
   "execution_count": 3,
   "metadata": {},
   "outputs": [
    {
     "data": {
      "image/png": "[encoded data removed]",
      "text/plain": [
       "<matplotlib.figure.Figure at 0x7f950c86ec50>"
      ]
     },
     "metadata": {},
     "output_type": "display_data"
    }
   ],
   "source": [
    "# get image from wikimedia commons: https://commons.wikimedia.org/wiki/File:Uniform_polyhedron-43-t0.svg\n",
    "cube = url_to_image(\"https://upload.wikimedia.org/wikipedia/commons/thumb/6/69/Uniform_polyhedron-43-t0.svg/495px-Uniform_polyhedron-43-t0.svg.png\")\n",
    "plt.imshow(cube[:,:,[2,1,0]]) # reverse the layers to RGB\n",
    "# this is a 3 channel image with float32 datatype, so we can simply pick the red layer \n",
    "cube = cube[:,:,2]\n"
   ]
  },
  {
   "cell_type": "code",
   "execution_count": 4,
   "metadata": {},
   "outputs": [
    {
     "name": "stdout",
     "output_type": "stream",
     "text": [
      "outer contours found: 1\n"
     ]
    }
   ],
   "source": [
    "_, contours, hier = cv2.findContours(cube.copy(), cv2.RETR_TREE, cv2.CHAIN_APPROX_SIMPLE)\n",
    "print(\"outer contours found: %d\" % len(contours))\n",
    "dst = np.zeros_like(cube)\n",
    "cv2.drawContours(dst, contours, 0, 255, 3)\n",
    "contour = contours[0]"
   ]
  },
  {
   "cell_type": "code",
   "execution_count": 5,
   "metadata": {},
   "outputs": [
    {
     "name": "stdout",
     "output_type": "stream",
     "text": [
      "points in 0th contour: 6\n"
     ]
    }
   ],
   "source": [
    "# this step is optional, it just makes it easier to inspect the contour manually\n",
    "peri = 0.01 * cv2.arcLength(contour, True)  # approximate such that points are never > 0.01*perimeter away\n",
    "contour = cv2.approxPolyDP(contour, peri, True)\n",
    "print (\"points in 0th contour: %d\" % len(contour))\n"
   ]
  },
  {
   "cell_type": "code",
   "execution_count": 6,
   "metadata": {},
   "outputs": [
    {
     "name": "stdout",
     "output_type": "stream",
     "text": [
      "Original image with contour (light line) and contour grown by 1.1 (dark line)\n"
     ]
    },
    {
     "data": {
      "image/png": "[encoded data removed]",
      "text/plain": [
       "<matplotlib.figure.Figure at 0x7f950bf50860>"
      ]
     },
     "metadata": {},
     "output_type": "display_data"
    }
   ],
   "source": [
    "# find center of gravity from the moments:\n",
    "\n",
    "moments = cv2.moments(contour)\n",
    "midX = int(round(moments[\"m10\"] / moments[\"m00\"]))\n",
    "midY = int(round(moments[\"m01\"] / moments[\"m00\"]))\n",
    "mid = np.array([midX,midY])\n",
    "dst = np.zeros_like(cube)\n",
    "cv2.drawContours(dst, [contour], 0, 255, 3)\n",
    "contour2 = contour - mid\n",
    "contour2 = (contour2 * 1.1).astype(np.int32)\n",
    "contour2 += mid\n",
    "cv2.drawContours(dst, [contour2], 0, 169, 3)\n",
    "plt.imshow(np.dstack([cube,dst,dst]))\n",
    "print (\"Original image with contour (light line) and contour grown by 1.1 (dark line)\")"
   ]
  },
  {
   "cell_type": "code",
   "execution_count": null,
   "metadata": {
    "collapsed": true
   },
   "outputs": [],
   "source": []
  }
 ],
 "metadata": {
  "kernelspec": {
   "display_name": "Python 3",
   "language": "python",
   "name": "python3"
  },
  "language_info": {
   "codemirror_mode": {
    "name": "ipython",
    "version": 3
   },
   "file_extension": ".py",
   "mimetype": "text/x-python",
   "name": "python",
   "nbconvert_exporter": "python",
   "pygments_lexer": "ipython3",
   "version": "3.5.2"
  }
 },
 "nbformat": 4,
 "nbformat_minor": 2
}
